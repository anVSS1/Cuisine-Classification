{
 "cells": [
  {
   "cell_type": "code",
   "execution_count": 42,
   "metadata": {},
   "outputs": [],
   "source": [
    "import pandas as pd\n",
    "from sklearn.model_selection import train_test_split, GridSearchCV\n",
    "from sklearn.preprocessing import LabelEncoder\n",
    "from sklearn.ensemble import RandomForestClassifier\n",
    "from sklearn.metrics import accuracy_score, classification_report\n",
    "from xgboost import XGBClassifier\n",
    "import matplotlib.pyplot as plt\n",
    "import seaborn as sns"
   ]
  },
  {
   "cell_type": "code",
   "execution_count": null,
   "metadata": {},
   "outputs": [],
   "source": [
    "# Assuming the dataset is in a CSV file\n",
    "df = pd.read_csv(r'C:\\Users\\VSS\\Desktop\\ML projects\\Dataset.csv')\n",
    "\n",
    "# checking the data\n",
    "df.head()"
   ]
  },
  {
   "cell_type": "code",
   "execution_count": null,
   "metadata": {},
   "outputs": [],
   "source": [
    "# informations about the data\n",
    "df.describe()"
   ]
  },
  {
   "cell_type": "code",
   "execution_count": null,
   "metadata": {},
   "outputs": [],
   "source": [
    "# Analyze missing values\n",
    "missing_values = df.isnull().sum()\n",
    "missing_percentage = (missing_values / len(df)) * 100\n",
    "\n",
    "print(\"Missing Values Count:\")\n",
    "print(missing_values)\n",
    "print(\"\\nMissing Values Percentage:\")\n",
    "print(missing_percentage)"
   ]
  },
  {
   "cell_type": "code",
   "execution_count": null,
   "metadata": {},
   "outputs": [],
   "source": [
    "# Fill missing cuisines with 'Unknown'\n",
    "df['Cuisines'].fillna('Unknown', inplace=True)"
   ]
  },
  {
   "cell_type": "code",
   "execution_count": 47,
   "metadata": {},
   "outputs": [],
   "source": [
    "# Encode categorical features\n",
    "label_encoder = LabelEncoder()\n",
    "\n",
    "# Encoding Cuisines as the target variable\n",
    "df['Cuisines_encoded'] = label_encoder.fit_transform(df['Cuisines'])\n",
    "\n",
    "# Encoding other categorical features: City, Currency, Has Table booking, Has Online delivery, etc.\n",
    "df['City_encoded'] = label_encoder.fit_transform(df['City'])\n",
    "df['Currency_encoded'] = label_encoder.fit_transform(df['Currency'])\n",
    "df['Has Table booking_encoded'] = label_encoder.fit_transform(df['Has Table booking'])\n",
    "df['Has Online delivery_encoded'] = label_encoder.fit_transform(df['Has Online delivery'])\n"
   ]
  },
  {
   "cell_type": "code",
   "execution_count": 48,
   "metadata": {},
   "outputs": [],
   "source": [
    "# Selecting features for classification\n",
    "X = df[['City_encoded', 'Currency_encoded', 'Has Table booking_encoded', 'Has Online delivery_encoded', 'Price range', 'Aggregate rating', 'Votes']]\n",
    "y = df['Cuisines_encoded']"
   ]
  },
  {
   "cell_type": "code",
   "execution_count": null,
   "metadata": {},
   "outputs": [],
   "source": [
    "# Check for class imbalance\n",
    "plt.figure(figsize=(10, 6))\n",
    "sns.countplot(y=df['Cuisines'])\n",
    "plt.title(\"Distribution of Cuisines\")\n",
    "plt.xticks(rotation=90)\n",
    "plt.show()"
   ]
  },
  {
   "cell_type": "code",
   "execution_count": 50,
   "metadata": {},
   "outputs": [],
   "source": [
    "# Split data into training and testing sets\n",
    "X_train, X_test, y_train, y_test = train_test_split(X, y, test_size=0.2, random_state=42)\n"
   ]
  },
  {
   "cell_type": "code",
   "execution_count": null,
   "metadata": {},
   "outputs": [],
   "source": [
    "# Initialize and train the Random Forest classifier with hyperparameter tuning\n",
    "rf_classifier = RandomForestClassifier(random_state=42)\n",
    "param_grid = {\n",
    "    'n_estimators': [100, 200],\n",
    "    'max_depth': [10, 20, None],\n",
    "    'min_samples_split': [2, 5, 10]\n",
    "}\n",
    "\n",
    "grid_search_rf = GridSearchCV(estimator=rf_classifier, param_grid=param_grid, cv=3, n_jobs=-1, verbose=2)\n",
    "grid_search_rf.fit(X_train, y_train)\n"
   ]
  },
  {
   "cell_type": "code",
   "execution_count": 16,
   "metadata": {},
   "outputs": [],
   "source": [
    "# Make predictions on the test set\n",
    "y_pred_rf = grid_search_rf.predict(X_test)\n"
   ]
  },
  {
   "cell_type": "code",
   "execution_count": null,
   "metadata": {},
   "outputs": [],
   "source": [
    "# Evaluate the Random Forest model's performance\n",
    "accuracy_rf = accuracy_score(y_test, y_pred_rf)\n",
    "classification_rep_rf = classification_report(y_test, y_pred_rf, target_names=label_encoder.classes_)\n",
    "\n",
    "print(f\"Random Forest Accuracy: {accuracy_rf}\")\n",
    "print(\"Random Forest Classification Report:\")\n",
    "print(classification_rep_rf)"
   ]
  },
  {
   "cell_type": "code",
   "execution_count": null,
   "metadata": {},
   "outputs": [],
   "source": [
    "# Initialize and train the XGBoost classifier\n",
    "xgb_classifier = XGBClassifier(random_state=42, use_label_encoder=False, eval_metric='mlogloss')\n",
    "xgb_classifier.fit(X_train, y_train)\n"
   ]
  },
  {
   "cell_type": "code",
   "execution_count": null,
   "metadata": {},
   "outputs": [],
   "source": [
    "# Make predictions on the test set using XGBoost\n",
    "y_pred_xgb = xgb_classifier.predict(X_test)"
   ]
  },
  {
   "cell_type": "code",
   "execution_count": null,
   "metadata": {},
   "outputs": [],
   "source": [
    "# Evaluate the XGBoost model's performance\n",
    "accuracy_xgb = accuracy_score(y_test, y_pred_xgb)\n",
    "classification_rep_xgb = classification_report(y_test, y_pred_xgb, target_names=label_encoder.classes_)\n",
    "\n",
    "print(f\"XGBoost Accuracy: {accuracy_xgb}\")\n",
    "print(\"XGBoost Classification Report:\")\n",
    "print(classification_rep_xgb)"
   ]
  }
 ],
 "metadata": {
  "kernelspec": {
   "display_name": "Python 3",
   "language": "python",
   "name": "python3"
  },
  "language_info": {
   "codemirror_mode": {
    "name": "ipython",
    "version": 3
   },
   "file_extension": ".py",
   "mimetype": "text/x-python",
   "name": "python",
   "nbconvert_exporter": "python",
   "pygments_lexer": "ipython3",
   "version": "3.12.3"
  }
 },
 "nbformat": 4,
 "nbformat_minor": 2
}
